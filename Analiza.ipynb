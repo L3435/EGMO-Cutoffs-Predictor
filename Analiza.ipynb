{
 "cells": [
  {
   "cell_type": "markdown",
   "metadata": {},
   "source": [
    "Analiza podatkov tekmovanj EGMO\n",
    "==============================="
   ]
  },
  {
   "cell_type": "markdown",
   "metadata": {},
   "source": [
    "Vezni tekst neki neki idk"
   ]
  },
  {
   "cell_type": "markdown",
   "metadata": {},
   "source": [
    "Load data from .csv\n",
    "\n",
    "Done ig"
   ]
  },
  {
   "cell_type": "code",
   "execution_count": 5,
   "metadata": {},
   "outputs": [
    {
     "data": {
      "text/html": [
       "<div>\n",
       "<style scoped>\n",
       "    .dataframe tbody tr th:only-of-type {\n",
       "        vertical-align: middle;\n",
       "    }\n",
       "\n",
       "    .dataframe tbody tr th {\n",
       "        vertical-align: top;\n",
       "    }\n",
       "\n",
       "    .dataframe thead th {\n",
       "        text-align: right;\n",
       "    }\n",
       "</style>\n",
       "<table border=\"1\" class=\"dataframe\">\n",
       "  <thead>\n",
       "    <tr style=\"text-align: right;\">\n",
       "      <th></th>\n",
       "      <th></th>\n",
       "      <th>code</th>\n",
       "      <th>name</th>\n",
       "      <th>P1</th>\n",
       "      <th>P2</th>\n",
       "      <th>P3</th>\n",
       "      <th>P4</th>\n",
       "      <th>P5</th>\n",
       "      <th>P6</th>\n",
       "      <th>prize</th>\n",
       "    </tr>\n",
       "  </thead>\n",
       "  <tbody>\n",
       "    <tr>\n",
       "      <th>EGMO 8</th>\n",
       "      <th>173</th>\n",
       "      <td>SVN2</td>\n",
       "      <td>Tea Jeličić</td>\n",
       "      <td>7</td>\n",
       "      <td>7</td>\n",
       "      <td>0</td>\n",
       "      <td>7</td>\n",
       "      <td>1</td>\n",
       "      <td>0</td>\n",
       "      <td>3</td>\n",
       "    </tr>\n",
       "    <tr>\n",
       "      <th>EGMO 6</th>\n",
       "      <th>144</th>\n",
       "      <td>SVN1</td>\n",
       "      <td>Ana Meta Dolinar</td>\n",
       "      <td>7</td>\n",
       "      <td>0</td>\n",
       "      <td>0</td>\n",
       "      <td>7</td>\n",
       "      <td>0</td>\n",
       "      <td>0</td>\n",
       "      <td>2</td>\n",
       "    </tr>\n",
       "    <tr>\n",
       "      <th>EGMO 7</th>\n",
       "      <th>171</th>\n",
       "      <td>SVN1</td>\n",
       "      <td>Ana Meta Dolinar</td>\n",
       "      <td>6</td>\n",
       "      <td>1</td>\n",
       "      <td>1</td>\n",
       "      <td>7</td>\n",
       "      <td>0</td>\n",
       "      <td>0</td>\n",
       "      <td>2</td>\n",
       "    </tr>\n",
       "    <tr>\n",
       "      <th rowspan=\"2\" valign=\"top\">EGMO 8</th>\n",
       "      <th>172</th>\n",
       "      <td>SVN1</td>\n",
       "      <td>Ana Meta Dolinar</td>\n",
       "      <td>7</td>\n",
       "      <td>4</td>\n",
       "      <td>0</td>\n",
       "      <td>7</td>\n",
       "      <td>1</td>\n",
       "      <td>0</td>\n",
       "      <td>2</td>\n",
       "    </tr>\n",
       "    <tr>\n",
       "      <th>174</th>\n",
       "      <td>SVN3</td>\n",
       "      <td>Ema Mlinar</td>\n",
       "      <td>7</td>\n",
       "      <td>0</td>\n",
       "      <td>0</td>\n",
       "      <td>7</td>\n",
       "      <td>3</td>\n",
       "      <td>1</td>\n",
       "      <td>2</td>\n",
       "    </tr>\n",
       "    <tr>\n",
       "      <th>EGMO 10</th>\n",
       "      <th>188</th>\n",
       "      <td>SVN1</td>\n",
       "      <td>Katarina Grilj</td>\n",
       "      <td>0</td>\n",
       "      <td>0</td>\n",
       "      <td>0</td>\n",
       "      <td>7</td>\n",
       "      <td>3</td>\n",
       "      <td>0</td>\n",
       "      <td>2</td>\n",
       "    </tr>\n",
       "    <tr>\n",
       "      <th>EGMO 3</th>\n",
       "      <th>87</th>\n",
       "      <td>SVN2</td>\n",
       "      <td>Lara Jerman</td>\n",
       "      <td>0</td>\n",
       "      <td>1</td>\n",
       "      <td>0</td>\n",
       "      <td>0</td>\n",
       "      <td>7</td>\n",
       "      <td>0</td>\n",
       "      <td>2</td>\n",
       "    </tr>\n",
       "    <tr>\n",
       "      <th>EGMO 2</th>\n",
       "      <th>65</th>\n",
       "      <td>SVN3</td>\n",
       "      <td>Maruša Pečovnik</td>\n",
       "      <td>7</td>\n",
       "      <td>3</td>\n",
       "      <td>0</td>\n",
       "      <td>6</td>\n",
       "      <td>0</td>\n",
       "      <td>0</td>\n",
       "      <td>2</td>\n",
       "    </tr>\n",
       "    <tr>\n",
       "      <th>EGMO 7</th>\n",
       "      <th>173</th>\n",
       "      <td>SVN3</td>\n",
       "      <td>Ana Opalič</td>\n",
       "      <td>7</td>\n",
       "      <td>0</td>\n",
       "      <td>1</td>\n",
       "      <td>2</td>\n",
       "      <td>0</td>\n",
       "      <td>0</td>\n",
       "      <td>1</td>\n",
       "    </tr>\n",
       "    <tr>\n",
       "      <th>EGMO 6</th>\n",
       "      <th>145</th>\n",
       "      <td>SVN2</td>\n",
       "      <td>Klara Drofenik</td>\n",
       "      <td>7</td>\n",
       "      <td>0</td>\n",
       "      <td>0</td>\n",
       "      <td>0</td>\n",
       "      <td>2</td>\n",
       "      <td>0</td>\n",
       "      <td>1</td>\n",
       "    </tr>\n",
       "    <tr>\n",
       "      <th>EGMO 4</th>\n",
       "      <th>89</th>\n",
       "      <td>SVN3</td>\n",
       "      <td>Klara Nosan</td>\n",
       "      <td>1</td>\n",
       "      <td>2</td>\n",
       "      <td>0</td>\n",
       "      <td>7</td>\n",
       "      <td>0</td>\n",
       "      <td>0</td>\n",
       "      <td>1</td>\n",
       "    </tr>\n",
       "    <tr>\n",
       "      <th rowspan=\"2\" valign=\"top\">EGMO 2</th>\n",
       "      <th>63</th>\n",
       "      <td>SVN1</td>\n",
       "      <td>Lara Jerman</td>\n",
       "      <td>7</td>\n",
       "      <td>4</td>\n",
       "      <td>0</td>\n",
       "      <td>2</td>\n",
       "      <td>0</td>\n",
       "      <td>0</td>\n",
       "      <td>1</td>\n",
       "    </tr>\n",
       "    <tr>\n",
       "      <th>66</th>\n",
       "      <td>SVN4</td>\n",
       "      <td>Mihaela Pušnik</td>\n",
       "      <td>7</td>\n",
       "      <td>2</td>\n",
       "      <td>0</td>\n",
       "      <td>2</td>\n",
       "      <td>2</td>\n",
       "      <td>0</td>\n",
       "      <td>1</td>\n",
       "    </tr>\n",
       "    <tr>\n",
       "      <th>EGMO 4</th>\n",
       "      <th>90</th>\n",
       "      <td>SVN4</td>\n",
       "      <td>Timeja Strašek</td>\n",
       "      <td>7</td>\n",
       "      <td>0</td>\n",
       "      <td>0</td>\n",
       "      <td>0</td>\n",
       "      <td>0</td>\n",
       "      <td>0</td>\n",
       "      <td>1</td>\n",
       "    </tr>\n",
       "    <tr>\n",
       "      <th>EGMO 7</th>\n",
       "      <th>174</th>\n",
       "      <td>SVN4</td>\n",
       "      <td>Špela Polak</td>\n",
       "      <td>7</td>\n",
       "      <td>1</td>\n",
       "      <td>0</td>\n",
       "      <td>2</td>\n",
       "      <td>0</td>\n",
       "      <td>0</td>\n",
       "      <td>1</td>\n",
       "    </tr>\n",
       "    <tr>\n",
       "      <th>EGMO 8</th>\n",
       "      <th>175</th>\n",
       "      <td>SVN4</td>\n",
       "      <td>Špela Polak</td>\n",
       "      <td>4</td>\n",
       "      <td>0</td>\n",
       "      <td>0</td>\n",
       "      <td>7</td>\n",
       "      <td>1</td>\n",
       "      <td>0</td>\n",
       "      <td>1</td>\n",
       "    </tr>\n",
       "  </tbody>\n",
       "</table>\n",
       "</div>"
      ],
      "text/plain": [
       "             code              name  P1  P2  P3  P4  P5  P6  prize\n",
       "EGMO 8  173  SVN2       Tea Jeličić   7   7   0   7   1   0      3\n",
       "EGMO 6  144  SVN1  Ana Meta Dolinar   7   0   0   7   0   0      2\n",
       "EGMO 7  171  SVN1  Ana Meta Dolinar   6   1   1   7   0   0      2\n",
       "EGMO 8  172  SVN1  Ana Meta Dolinar   7   4   0   7   1   0      2\n",
       "        174  SVN3        Ema Mlinar   7   0   0   7   3   1      2\n",
       "EGMO 10 188  SVN1    Katarina Grilj   0   0   0   7   3   0      2\n",
       "EGMO 3  87   SVN2       Lara Jerman   0   1   0   0   7   0      2\n",
       "EGMO 2  65   SVN3   Maruša Pečovnik   7   3   0   6   0   0      2\n",
       "EGMO 7  173  SVN3        Ana Opalič   7   0   1   2   0   0      1\n",
       "EGMO 6  145  SVN2    Klara Drofenik   7   0   0   0   2   0      1\n",
       "EGMO 4  89   SVN3       Klara Nosan   1   2   0   7   0   0      1\n",
       "EGMO 2  63   SVN1       Lara Jerman   7   4   0   2   0   0      1\n",
       "        66   SVN4    Mihaela Pušnik   7   2   0   2   2   0      1\n",
       "EGMO 4  90   SVN4    Timeja Strašek   7   0   0   0   0   0      1\n",
       "EGMO 7  174  SVN4       Špela Polak   7   1   0   2   0   0      1\n",
       "EGMO 8  175  SVN4       Špela Polak   4   0   0   7   1   0      1"
      ]
     },
     "execution_count": 5,
     "metadata": {},
     "output_type": "execute_result"
    }
   ],
   "source": [
    "import pandas as pd\n",
    "\n",
    "egmo_array = [pd.read_csv(f\"podatki/csv/egmo{i}.csv\") for i in range(2, 11)]\n",
    "egmo = pd.concat(egmo_array, keys=[f\"EGMO {i}\" for i in range(2, 11)])\n",
    "egmo[(egmo[\"code\"].str.contains(\"SVN\")) & (egmo[\"prize\"] > 0)].sort_values([\"prize\", \"name\"], ascending=[False, True])"
   ]
  },
  {
   "cell_type": "markdown",
   "metadata": {},
   "source": [
    "Do some analysis"
   ]
  },
  {
   "cell_type": "code",
   "execution_count": 6,
   "metadata": {},
   "outputs": [
    {
     "data": {
      "text/plain": [
       "<AxesSubplot:>"
      ]
     },
     "execution_count": 6,
     "metadata": {},
     "output_type": "execute_result"
    },
    {
     "data": {
      "image/png": "[encoded data removed]",
      "text/plain": [
       "<Figure size 432x288 with 1 Axes>"
      ]
     },
     "metadata": {
      "needs_background": "light"
     },
     "output_type": "display_data"
    }
   ],
   "source": [
    "egmo10 = pd.read_csv(\"podatki/csv/egmo10.csv\")\n",
    "egmo10['skupaj'] = sum(egmo10[f\"P{i}\"] for i in range(1,7))\n",
    "graf = egmo10['skupaj'].value_counts().reindex(index=[t for t in range(43)]).sort_index().plot.bar(x='skupaj', y='count')\n",
    "for i, t in enumerate(graf.get_xticklabels()):\n",
    "    if (i % 7) != 0:\n",
    "        t.set_visible(False)\n",
    "graf"
   ]
  },
  {
   "cell_type": "markdown",
   "metadata": {},
   "source": [
    "Predictor al neki idk"
   ]
  },
  {
   "cell_type": "code",
   "execution_count": 7,
   "metadata": {},
   "outputs": [
    {
     "data": {
      "text/plain": [
       "<AxesSubplot:xlabel='idx'>"
      ]
     },
     "execution_count": 7,
     "metadata": {},
     "output_type": "execute_result"
    },
    {
     "data": {
      "image/png": "[encoded data removed]",
      "text/plain": [
       "<Figure size 432x288 with 1 Axes>"
      ]
     },
     "metadata": {
      "needs_background": "light"
     },
     "output_type": "display_data"
    }
   ],
   "source": [
    "import predictor\n",
    "\n",
    "predictor.main().plot.line()"
   ]
  },
  {
   "cell_type": "code",
   "execution_count": 8,
   "metadata": {},
   "outputs": [
    {
     "data": {
      "text/plain": [
       "<AxesSubplot:xlabel='idx'>"
      ]
     },
     "execution_count": 8,
     "metadata": {},
     "output_type": "execute_result"
    },
    {
     "data": {
      "image/png": "[encoded data removed]",
      "text/plain": [
       "<Figure size 432x288 with 1 Axes>"
      ]
     },
     "metadata": {
      "needs_background": "light"
     },
     "output_type": "display_data"
    }
   ],
   "source": [
    "predictor.main(fq=True).plot.line()"
   ]
  }
 ],
 "metadata": {
  "interpreter": {
   "hash": "ac59ebe37160ed0dfa835113d9b8498d9f09ceb179beaac4002f036b9467c963"
  },
  "kernelspec": {
   "display_name": "Python 3.9.5 64-bit",
   "language": "python",
   "name": "python3"
  },
  "language_info": {
   "codemirror_mode": {
    "name": "ipython",
    "version": 3
   },
   "file_extension": ".py",
   "mimetype": "text/x-python",
   "name": "python",
   "nbconvert_exporter": "python",
   "pygments_lexer": "ipython3",
   "version": "3.9.5"
  },
  "orig_nbformat": 4
 },
 "nbformat": 4,
 "nbformat_minor": 2
}
